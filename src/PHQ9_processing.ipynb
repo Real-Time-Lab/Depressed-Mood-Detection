{
 "cells": [
  {
   "cell_type": "code",
   "execution_count": null,
   "metadata": {},
   "outputs": [],
   "source": [
    "import pandas as pd\n",
    "\n",
    "# dir_data='D:/research/dataset/studentlife/survey/' # lab win10\n",
    "dir_data = 'C:/study/studentlife/survey/' #home, win10'\n",
    "dir_code = './' # home, win10\n",
    "dir_tosave= '../data/' # home, win10\n",
    "\n",
    "\n",
    "file_name = 'PHQ-9.csv'\n",
    "filename_tosave ='phq9_score.csv'\n",
    "data= pd.read_csv(dir_data+file_name)\n",
    "\n",
    "#### depression scal  ########\n",
    "# dp={'minimal':[0,4], 'mild':[5,9],'moderate':[10,14],'moderately severe':[15,19],'severe':[20,27]}\n",
    "# dp_grade ={'minimal':0, 'mild':1,'moderate':2,'moderately severe':3,'severe':4}\n",
    "dp={'minimal':[0,4], 'mild':[5,9],'moderate':[10,14],'severe':[15,27]}  #dp: depression. Conbine moderately severe and severe\n",
    "dp_grade ={'minimal':0, 'mild':1,'moderate':2,'severe':3}\n",
    "\n",
    "scale ={'Not at all':0, 'Several days':1, 'More than half the days':2,'Nearly every day':3}\n",
    "data['phq score']=0\n",
    "data['depression severity']=''\n",
    "cols = data.columns\n",
    "print(cols)"
   ]
  },
  {
   "cell_type": "code",
   "execution_count": null,
   "metadata": {},
   "outputs": [],
   "source": [
    "qust_list =['Little interest or pleasure in doing things',\n",
    "       'Feeling down, depressed, hopeless.',\n",
    "       'Trouble falling or staying asleep, or sleeping too much.',\n",
    "       'Feeling tired or having little energy', 'Poor appetite or overeating',\n",
    "       'Feeling bad about yourself or that you are a failure or have let yourself or your family down',\n",
    "       'Trouble concentrating on things, such as reading the newspaper or watching television',\n",
    "       'Moving or speaking so slowly that other people could have noticed. Or the opposite being so figety or restless that you have been moving around a lot more than usual',\n",
    "       'Thoughts that you would be better off dead, or of hurting yourself']\n",
    "\n",
    "# dp={'minimal':[0,4], 'mild':[5,9],'moderate':[10,14],'moderately severe':[15,19],'severe':[20,27]}\n",
    "\n",
    "dp_itp={}\n",
    "\n",
    "print(dp.items())\n",
    "for key, value_list in dp.items():\n",
    "    for value in range(value_list[0], value_list[1]+1):\n",
    "#         dp_itp.setdefault(key,[]).append(value)\n",
    "        dp_itp[value]=key\n",
    "\n",
    "# print(dp_itp)\n",
    "\n",
    "### count result ####\n",
    "for i in range(data.shape[0]):\n",
    "    score=0\n",
    "    for qust in qust_list:\n",
    "        temp = data.loc[i,qust]\n",
    "        score += scale[temp]\n",
    "        data.loc[i,'phq score']=score\n",
    "    data.loc[i,'depression severity']=dp_itp[score]\n",
    "    data.loc[i,'dp_grade']=dp_grade[data.loc[i,'depression severity']]\n",
    "\n",
    "# # add depression class\n",
    "# data['dp_grade']=0\n",
    "# for i in range(data.shape[0]):\n",
    "#     data.loc[i,'dp_grade']=dp_grade[data.loc[i,'depression severity']]\n",
    "data.to_csv(dir_tosave+filename_tosave, index= False)"
   ]
  },
  {
   "cell_type": "code",
   "execution_count": 17,
   "metadata": {},
   "outputs": [],
   "source": [
    "#  add binary class (label)\n",
    "\n",
    "import pandas as pd\n",
    "dir_code = './' # home, win10\n",
    "dir_data = '../data/processed_data/'\n",
    "file_name = 'phq9_score.csv'\n",
    "\n",
    "data = pd.read_csv(dir_data+file_name, index_col=0)\n",
    "\n"
   ]
  },
  {
   "cell_type": "code",
   "execution_count": 19,
   "metadata": {},
   "outputs": [
    {
     "name": "stdout",
     "output_type": "stream",
     "text": [
      "phq9_scare shape: (84, 15)\n"
     ]
    }
   ],
   "source": [
    "# add dp_class colume (label)\n",
    "dp_class = {0:0,1:0,2:1,3:1}  # grade to class mapping\n",
    "class_list = []\n",
    "for i in range(data.shape[0]):\n",
    "    class_list.append(dp_class[data['dp_grade'][i]])\n",
    "data['dp_class']=class_list\n",
    "data.to_csv(dir_data+'phq9_score.csv', index= True)\n",
    "\n",
    "print(\"phq9_scare shape:\", data.shape)"
   ]
  }
 ],
 "metadata": {
  "kernelspec": {
   "display_name": "Python 3",
   "language": "python",
   "name": "python3"
  },
  "language_info": {
   "codemirror_mode": {
    "name": "ipython",
    "version": 3
   },
   "file_extension": ".py",
   "mimetype": "text/x-python",
   "name": "python",
   "nbconvert_exporter": "python",
   "pygments_lexer": "ipython3",
   "version": "3.7.6"
  }
 },
 "nbformat": 4,
 "nbformat_minor": 4
}
